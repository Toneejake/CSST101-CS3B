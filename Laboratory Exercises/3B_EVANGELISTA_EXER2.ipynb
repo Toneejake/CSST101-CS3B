{
  "nbformat": 4,
  "nbformat_minor": 0,
  "metadata": {
    "colab": {
      "provenance": [],
      "collapsed_sections": [
        "H7YGYsTI2sFQ"
      ]
    },
    "kernelspec": {
      "name": "python3",
      "display_name": "Python 3"
    },
    "language_info": {
      "name": "python"
    }
  },
  "cells": [
    {
      "cell_type": "markdown",
      "source": [
        "#**Libraries**"
      ],
      "metadata": {
        "id": "bAWuTPOL-o7c"
      }
    },
    {
      "cell_type": "code",
      "execution_count": 366,
      "metadata": {
        "id": "3vLRMgKczHPs"
      },
      "outputs": [],
      "source": [
        "import numpy as np\n",
        "import pandas as pd\n",
        "import matplotlib.pyplot as plt"
      ]
    },
    {
      "cell_type": "markdown",
      "source": [
        "# Exercise 1: Introduction to Probability Theory in AI"
      ],
      "metadata": {
        "id": "H7YGYsTI2sFQ"
      }
    },
    {
      "cell_type": "markdown",
      "source": [
        "Given sample:"
      ],
      "metadata": {
        "id": "qFkHinJZ2xHV"
      }
    },
    {
      "cell_type": "code",
      "source": [
        "#prob means probability, I just shortened the variables\n",
        "def joint_probability(p_A, p_B):\n",
        "  return p_A * p_B\n",
        "\n",
        "def marginal_probability(p_A, p_B):\n",
        "  return p_A + p_B - joint_probability(p_A, p_B)\n",
        "\n",
        "def conditional_probability(p_B_given_A, p_A, p_B):\n",
        "  return (p_B_given_A * p_A) / p_B\n",
        "\n",
        "#usage\n",
        "\n",
        "p_A = 0.3 #probability of the event a\n",
        "p_B = 0.4 #probability of the event b\n",
        "p_B_given_A = 0.0 #conditional probability of given b and a\n",
        "\n",
        "print(f\"Joint Probability: {joint_probability(p_A, p_B)}\")\n",
        "print(f\"Marginal Probability: {marginal_probability(p_A, p_B)}\")\n",
        "print(f\"Conditional Probability: {conditional_probability(p_B_given_A, p_A, p_B)}\")"
      ],
      "metadata": {
        "colab": {
          "base_uri": "https://localhost:8080/"
        },
        "id": "E-NJycYEzm7e",
        "outputId": "f655ceca-3b53-4e4a-8e98-5c2e2d31d029"
      },
      "execution_count": 367,
      "outputs": [
        {
          "output_type": "stream",
          "name": "stdout",
          "text": [
            "Joint Probability: 0.12\n",
            "Marginal Probability: 0.58\n",
            "Conditional Probability: 0.0\n"
          ]
        }
      ]
    },
    {
      "cell_type": "markdown",
      "source": [
        "**Assessment Task 1: Basic Probability Calculations**"
      ],
      "metadata": {
        "id": "7x4jUG_o2pFQ"
      }
    },
    {
      "cell_type": "markdown",
      "source": [
        "1. Start with a Coding Task:"
      ],
      "metadata": {
        "id": "HxSWkxr_2_Ci"
      }
    },
    {
      "cell_type": "code",
      "source": [
        "#Write Python functions to compute joint probability, marginal probability, and conditional probability.\n",
        "def joint_prob(p_A, p_B):\n",
        "  return p_A * p_B\n",
        "\n",
        "def marginal_prob(p_A, p_B):\n",
        "  return p_A + p_B - joint_prob(p_A, p_B)\n",
        "\n",
        "def conditional_prob(p_B_given_A, p_A, p_B):\n",
        "  return (p_B_given_A * p_A) / p_B"
      ],
      "metadata": {
        "id": "ExnIczaS2-wg"
      },
      "execution_count": 368,
      "outputs": []
    },
    {
      "cell_type": "markdown",
      "source": [
        "2. Interactive Question:"
      ],
      "metadata": {
        "id": "b5RilFAX3adN"
      }
    },
    {
      "cell_type": "code",
      "source": [
        "#Question: If the probability of event A is 0.3 and the probability of event B is 0.4, what is the joint probability of A and B assuming they are independent?\n",
        "p_A = 0.3 #probability of the event a\n",
        "p_B = 0.4 #probability of the event b\n",
        "\n",
        "#Answer using Code: Implement the function joint_probability(p_A, p_B) to compute the result and submit it to see if your code is correct.\n",
        "print(f\"Joint Probability: {joint_probability(p_A, p_B)}\")"
      ],
      "metadata": {
        "colab": {
          "base_uri": "https://localhost:8080/"
        },
        "id": "_FpqlMD40bFI",
        "outputId": "2d505557-ed76-45d4-bea1-96b9e3e71b95"
      },
      "execution_count": 369,
      "outputs": [
        {
          "output_type": "stream",
          "name": "stdout",
          "text": [
            "Joint Probability: 0.12\n"
          ]
        }
      ]
    },
    {
      "cell_type": "markdown",
      "source": [
        "3. Feedback:\n",
        "\n",
        "The code shows correct output where the formula was implemented."
      ],
      "metadata": {
        "id": "nsc3hi2N4Ga7"
      }
    },
    {
      "cell_type": "markdown",
      "source": [
        "# Exercise 2: Decision-Making Under Uncertainty"
      ],
      "metadata": {
        "id": "1LUD2WWM4eDi"
      }
    },
    {
      "cell_type": "markdown",
      "source": [
        "Given sample:\n"
      ],
      "metadata": {
        "id": "Iav2Sjwf4hjd"
      }
    },
    {
      "cell_type": "code",
      "source": [
        "def bayesian_inference(prior, likelihood_positive_given_disease, likelihood_positive):\n",
        "  posterior = (likelihood_positive_given_disease * prior) / likelihood_positive\n",
        "  return posterior\n",
        "\n",
        "#Example probabilities\n",
        "prior_disease = 0.01 #probability of having the disease(prior)\n",
        "likelihood_positive_given_disease = 0.9 #likelihood of a positive test given the disease\n",
        "likelihood_positive = 0.05 #probability of a positive test overall\n",
        "\n",
        "posterior_disease = bayesian_inference(prior_disease, likelihood_positive_given_disease, likelihood_positive)\n",
        "print(f\"Posterior probability of disease given positive test: {posterior_disease}\")"
      ],
      "metadata": {
        "colab": {
          "base_uri": "https://localhost:8080/"
        },
        "id": "5PrkIlJL443J",
        "outputId": "f61126f4-1f92-4785-9a59-cea43432c549"
      },
      "execution_count": 370,
      "outputs": [
        {
          "output_type": "stream",
          "name": "stdout",
          "text": [
            "Posterior probability of disease given positive test: 0.18000000000000002\n"
          ]
        }
      ]
    },
    {
      "cell_type": "markdown",
      "source": [
        "Assessment Task 2: Bayesian Inference"
      ],
      "metadata": {
        "id": "tD_0OKhz5txW"
      }
    },
    {
      "cell_type": "markdown",
      "source": [
        "1. Interactive Bayesian Model:"
      ],
      "metadata": {
        "id": "--QkBX7254JD"
      }
    },
    {
      "cell_type": "code",
      "source": [
        "#Implement a Python function that performs Bayesian inference to update the probability of a hypothesis based on new evidence.\n",
        "def disease_result(disease, p_positive_disease, p_positive_no_disease):\n",
        "  disease_chance = (p_positive_disease * disease) / p_positive_no_disease\n",
        "  return disease_chance"
      ],
      "metadata": {
        "id": "gk31SVPv58DC"
      },
      "execution_count": 371,
      "outputs": []
    },
    {
      "cell_type": "markdown",
      "source": [
        "2. Interactive Scenario:"
      ],
      "metadata": {
        "id": "0_MKffje8VUT"
      }
    },
    {
      "cell_type": "markdown",
      "source": [
        "Scenario: A test for a disease has a 90% accuracy for positive results, and 5%\n",
        "of people without the disease test positive. If 1% of the population has the disease, what is the probability that someone who tested positive actually has the disease?"
      ],
      "metadata": {
        "id": "WDPPIYlHkvjB"
      }
    },
    {
      "cell_type": "code",
      "source": [
        "p_disease = 0.01\n",
        "p_positive_disease = 0.90\n",
        "p_positive_no_disease = 0.05"
      ],
      "metadata": {
        "id": "X-R_eRRf8QcC"
      },
      "execution_count": 372,
      "outputs": []
    },
    {
      "cell_type": "markdown",
      "source": [
        "3. Submit Your Answer:"
      ],
      "metadata": {
        "id": "LAVJsgbs8X24"
      }
    },
    {
      "cell_type": "code",
      "source": [
        "disease_chances = disease_result(p_disease, p_positive_disease, p_positive_no_disease)\n",
        "\n",
        "print(f\"Probability of someone who tested positive: {disease_chances}\")"
      ],
      "metadata": {
        "colab": {
          "base_uri": "https://localhost:8080/"
        },
        "id": "TH1gNQ5e9BMP",
        "outputId": "9ce3f386-46a3-425e-c0ea-206de5b9a4e6"
      },
      "execution_count": 373,
      "outputs": [
        {
          "output_type": "stream",
          "name": "stdout",
          "text": [
            "Probability of someone who tested positive: 0.18000000000000002\n"
          ]
        }
      ]
    },
    {
      "cell_type": "markdown",
      "source": [
        "Interactive Feedback:"
      ],
      "metadata": {
        "id": "4Lps5Q3x9JLG"
      }
    },
    {
      "cell_type": "markdown",
      "source": [
        "Base on the outcome with different probabilities, the span of results varies on 0.18 but still depends. Base on the Scenario, almost few of those who tested can possibly have the disease."
      ],
      "metadata": {
        "id": "PFugVEiH9Nf0"
      }
    },
    {
      "cell_type": "markdown",
      "source": [
        "# Exercise 3: Applying Probability Theory in AI for Diagnosis"
      ],
      "metadata": {
        "id": "2i37p9-v9vFX"
      }
    },
    {
      "cell_type": "markdown",
      "source": [
        "Given sample:"
      ],
      "metadata": {
        "id": "O1tuiPRP-DE5"
      }
    },
    {
      "cell_type": "code",
      "source": [
        "def simulate_decision(num_simulations, p_success, reward_success, reward_failure):\n",
        "  outcomes = []\n",
        "  for _ in range(num_simulations):\n",
        "    if np.random.rand() < p_success:\n",
        "      outcomes.append(reward_success)\n",
        "    else:\n",
        "      outcomes.append(reward_failure)\n",
        "  return np.mean(outcomes)\n",
        "\n",
        "#Example: Simulating 1000 decision attempts\n",
        "p_success = 0.7 #probability of success\n",
        "reward_success = 1000 #reward for success\n",
        "reward_failure = -500 #penalty for failure\n",
        "\n",
        "average_outcome = simulate_decision(1000, p_success, reward_success, reward_failure)\n",
        "print(f\"Expected value of decision: {average_outcome}\")"
      ],
      "metadata": {
        "colab": {
          "base_uri": "https://localhost:8080/"
        },
        "id": "S4_YRBdl-Imw",
        "outputId": "8681afe5-b111-4df0-823f-f1b042c7bba1"
      },
      "execution_count": 374,
      "outputs": [
        {
          "output_type": "stream",
          "name": "stdout",
          "text": [
            "Expected value of decision: 554.5\n"
          ]
        }
      ]
    },
    {
      "cell_type": "markdown",
      "source": [
        "Assessment Task 3: Decision-Making Under Uncertainty\n"
      ],
      "metadata": {
        "id": "0mcRvkTGBg0T"
      }
    },
    {
      "cell_type": "markdown",
      "source": [
        "1. Interactive Decision Simulation:"
      ],
      "metadata": {
        "id": "-AQvI07gC7HP"
      }
    },
    {
      "cell_type": "code",
      "source": [
        "def sdecision(simulations, p_invest, profit, loss):\n",
        "  outcomes = []\n",
        "  for _ in range(simulations):\n",
        "    if np.random.rand() < p_invest:\n",
        "      outcomes.append(profit)\n",
        "    else:\n",
        "      outcomes.append(loss)\n",
        "  return np.mean(outcomes)"
      ],
      "metadata": {
        "id": "lV7EauXlDIRr"
      },
      "execution_count": 375,
      "outputs": []
    },
    {
      "cell_type": "markdown",
      "source": [
        "2. Interactive Task:"
      ],
      "metadata": {
        "id": "sGNFTmsRDlRz"
      }
    },
    {
      "cell_type": "code",
      "source": [
        "p_success = 0.7 #probability of success\n",
        "reward_success = 1000 #reward for success\n",
        "reward_failure = -500 #penalty for failure"
      ],
      "metadata": {
        "id": "LNrxIietDn2w"
      },
      "execution_count": 376,
      "outputs": []
    },
    {
      "cell_type": "markdown",
      "source": [
        "3. Question:"
      ],
      "metadata": {
        "id": "cEl2pPmQDwOJ"
      }
    },
    {
      "cell_type": "code",
      "source": [
        "#What is the average return after 1000 iterations? How does changing the probability affect the result?\n",
        "average_outcome = simulate_decision(1000, p_success, reward_success, reward_failure)"
      ],
      "metadata": {
        "id": "pxZ9KxZSDxtJ"
      },
      "execution_count": 377,
      "outputs": []
    },
    {
      "cell_type": "markdown",
      "source": [
        "4. Submit and Feedback:"
      ],
      "metadata": {
        "id": "OCw2A3CID6Px"
      }
    },
    {
      "cell_type": "code",
      "source": [
        "#Run your simulation and submit the results.\n",
        "print(f\"Expected value of decision: {average_outcome}\")"
      ],
      "metadata": {
        "colab": {
          "base_uri": "https://localhost:8080/"
        },
        "id": "jXB2BsmyEFWZ",
        "outputId": "18e9f8c6-d05b-4697-efbd-20db474d407c"
      },
      "execution_count": 378,
      "outputs": [
        {
          "output_type": "stream",
          "name": "stdout",
          "text": [
            "Expected value of decision: 559.0\n"
          ]
        }
      ]
    },
    {
      "cell_type": "markdown",
      "source": [
        "Feedback:\n",
        "\n",
        "The outcome have different results base on the models decision and it varies around 500 above."
      ],
      "metadata": {
        "id": "9BUAeDCIEQIg"
      }
    },
    {
      "cell_type": "markdown",
      "source": [
        "# Exercise 4: Probability Distribution in AI\n"
      ],
      "metadata": {
        "id": "fame-ndzE4S2"
      }
    },
    {
      "cell_type": "markdown",
      "source": [
        "Given Sample:"
      ],
      "metadata": {
        "id": "nXoetPh7FQbF"
      }
    },
    {
      "cell_type": "code",
      "source": [
        "p_purchase_given_cart = 0.4\n",
        "p_cart = 0.3\n",
        "\n",
        "p_purchase = conditional_probability(p_purchase_given_cart, p_cart, 1)\n",
        "print(f\"Probability of Purchase: {p_purchase}\")"
      ],
      "metadata": {
        "colab": {
          "base_uri": "https://localhost:8080/"
        },
        "id": "114mgCfOFigq",
        "outputId": "85de4d6b-d233-42f2-b9ab-74402d73f713"
      },
      "execution_count": 379,
      "outputs": [
        {
          "output_type": "stream",
          "name": "stdout",
          "text": [
            "Probability of Purchase: 0.12\n"
          ]
        }
      ]
    },
    {
      "cell_type": "markdown",
      "source": [
        "Assessment Task 4: Real-World Scenario"
      ],
      "metadata": {
        "id": "MG5pGTYHRmyY"
      }
    },
    {
      "cell_type": "markdown",
      "source": [
        "1. Interactive Real-World Problem:"
      ],
      "metadata": {
        "id": "abxHmc8lY66t"
      }
    },
    {
      "cell_type": "markdown",
      "source": [
        "You are asked to model a real-world scenario in AI, such as predicting\n",
        "whether it will rain based on factors like humidity and cloud cover. Use conditional probabilities to model this scenario."
      ],
      "metadata": {
        "id": "Xqtl1jLbZwth"
      }
    },
    {
      "cell_type": "code",
      "source": [
        "def predict_rain(rain, humidity, cloud_cover):\n",
        "  return (rain * humidity) / cloud_cover"
      ],
      "metadata": {
        "id": "TDIGfpZGaVpl"
      },
      "execution_count": 380,
      "outputs": []
    },
    {
      "cell_type": "markdown",
      "source": [
        "2. Scenario Simulation:"
      ],
      "metadata": {
        "id": "NrZEgN-2ZA18"
      }
    },
    {
      "cell_type": "code",
      "source": [
        "humidity = 0.9\n",
        "cloud_cover = 0.6\n",
        "rain = 0.5\n",
        "\n",
        "probability_of_rain = predict_rain(rain, humidity, cloud_cover)\n",
        "print(f\"Probability of rain: {probability_of_rain}\")"
      ],
      "metadata": {
        "colab": {
          "base_uri": "https://localhost:8080/"
        },
        "id": "9-YgA3TAZo3D",
        "outputId": "1984e564-8cb1-4b65-8f36-e4715b6ee149"
      },
      "execution_count": 381,
      "outputs": [
        {
          "output_type": "stream",
          "name": "stdout",
          "text": [
            "Probability of rain: 0.75\n"
          ]
        }
      ]
    },
    {
      "cell_type": "markdown",
      "source": [
        "3. Submit and Feedback:"
      ],
      "metadata": {
        "id": "-01aT9WoaBf5"
      }
    },
    {
      "cell_type": "code",
      "source": [
        "plt.hist(probability_of_rain, bins=2)\n",
        "plt.title('Chance of rain')\n",
        "plt.show"
      ],
      "metadata": {
        "colab": {
          "base_uri": "https://localhost:8080/",
          "height": 622
        },
        "id": "uGUB2kyQfOTm",
        "outputId": "25c28a7e-0f3e-427a-8651-e718c8400974"
      },
      "execution_count": 382,
      "outputs": [
        {
          "output_type": "execute_result",
          "data": {
            "text/plain": [
              "<function matplotlib.pyplot.show(close=None, block=None)>"
            ],
            "text/html": [
              "<div style=\"max-width:800px; border: 1px solid var(--colab-border-color);\"><style>\n",
              "      pre.function-repr-contents {\n",
              "        overflow-x: auto;\n",
              "        padding: 8px 12px;\n",
              "        max-height: 500px;\n",
              "      }\n",
              "\n",
              "      pre.function-repr-contents.function-repr-contents-collapsed {\n",
              "        cursor: pointer;\n",
              "        max-height: 100px;\n",
              "      }\n",
              "    </style>\n",
              "    <pre style=\"white-space: initial; background:\n",
              "         var(--colab-secondary-surface-color); padding: 8px 12px;\n",
              "         border-bottom: 1px solid var(--colab-border-color);\"><b>matplotlib.pyplot.show</b><br/>def show(*args, **kwargs)</pre><pre class=\"function-repr-contents function-repr-contents-collapsed\" style=\"\"><a class=\"filepath\" style=\"display:none\" href=\"#\">/usr/local/lib/python3.10/dist-packages/matplotlib/pyplot.py</a>Display all open figures.\n",
              "\n",
              "Parameters\n",
              "----------\n",
              "block : bool, optional\n",
              "    Whether to wait for all figures to be closed before returning.\n",
              "\n",
              "    If `True` block and run the GUI main loop until all figure windows\n",
              "    are closed.\n",
              "\n",
              "    If `False` ensure that all figure windows are displayed and return\n",
              "    immediately.  In this case, you are responsible for ensuring\n",
              "    that the event loop is running to have responsive figures.\n",
              "\n",
              "    Defaults to True in non-interactive mode and to False in interactive\n",
              "    mode (see `.pyplot.isinteractive`).\n",
              "\n",
              "See Also\n",
              "--------\n",
              "ion : Enable interactive mode, which shows / updates the figure after\n",
              "      every plotting command, so that calling ``show()`` is not necessary.\n",
              "ioff : Disable interactive mode.\n",
              "savefig : Save the figure to an image file instead of showing it on screen.\n",
              "\n",
              "Notes\n",
              "-----\n",
              "**Saving figures to file and showing a window at the same time**\n",
              "\n",
              "If you want an image file as well as a user interface window, use\n",
              "`.pyplot.savefig` before `.pyplot.show`. At the end of (a blocking)\n",
              "``show()`` the figure is closed and thus unregistered from pyplot. Calling\n",
              "`.pyplot.savefig` afterwards would save a new and thus empty figure. This\n",
              "limitation of command order does not apply if the show is non-blocking or\n",
              "if you keep a reference to the figure and use `.Figure.savefig`.\n",
              "\n",
              "**Auto-show in jupyter notebooks**\n",
              "\n",
              "The jupyter backends (activated via ``%matplotlib inline``,\n",
              "``%matplotlib notebook``, or ``%matplotlib widget``), call ``show()`` at\n",
              "the end of every cell by default. Thus, you usually don&#x27;t have to call it\n",
              "explicitly there.</pre>\n",
              "      <script>\n",
              "      if (google.colab.kernel.accessAllowed && google.colab.files && google.colab.files.view) {\n",
              "        for (const element of document.querySelectorAll('.filepath')) {\n",
              "          element.style.display = 'block'\n",
              "          element.onclick = (event) => {\n",
              "            event.preventDefault();\n",
              "            event.stopPropagation();\n",
              "            google.colab.files.view(element.textContent, 401);\n",
              "          };\n",
              "        }\n",
              "      }\n",
              "      for (const element of document.querySelectorAll('.function-repr-contents')) {\n",
              "        element.onclick = (event) => {\n",
              "          event.preventDefault();\n",
              "          event.stopPropagation();\n",
              "          element.classList.toggle('function-repr-contents-collapsed');\n",
              "        };\n",
              "      }\n",
              "      </script>\n",
              "      </div>"
            ]
          },
          "metadata": {},
          "execution_count": 382
        },
        {
          "output_type": "display_data",
          "data": {
            "text/plain": [
              "<Figure size 640x480 with 1 Axes>"
            ],
            "image/png": "[encoded data removed]"
          },
          "metadata": {}
        }
      ]
    },
    {
      "cell_type": "markdown",
      "source": [
        "The prediction will be based on the given input 0. 3 humidity and 0.5 cloud cover which shows that there is 0.6 chance that it is raining, the results was based on the input and that's how it affects the prediction."
      ],
      "metadata": {
        "id": "c9T6lyW8aKxi"
      }
    },
    {
      "cell_type": "markdown",
      "source": [
        "# **Exercise 5: Real-World Application of Probability in AI**"
      ],
      "metadata": {
        "id": "ygc74_IgTsMY"
      }
    },
    {
      "cell_type": "markdown",
      "source": [
        "Given sample:"
      ],
      "metadata": {
        "id": "Ai7rC2lXTyRw"
      }
    },
    {
      "cell_type": "code",
      "source": [
        "n_trials = 1000\n",
        "p_head = 0.5\n",
        "binomial_distribution = np.random.binomial(n=1, p=p_head, size=n_trials)\n",
        "\n",
        "plt.hist(binomial_distribution, bins=2)\n",
        "plt.title('Binomial Distribution (Coin Flips)')\n",
        "plt.show"
      ],
      "metadata": {
        "colab": {
          "base_uri": "https://localhost:8080/",
          "height": 622
        },
        "id": "e9zzxUFGT1TH",
        "outputId": "0937f675-94e2-4995-eb8e-0bf3dce342be"
      },
      "execution_count": 383,
      "outputs": [
        {
          "output_type": "execute_result",
          "data": {
            "text/plain": [
              "<function matplotlib.pyplot.show(close=None, block=None)>"
            ],
            "text/html": [
              "<div style=\"max-width:800px; border: 1px solid var(--colab-border-color);\"><style>\n",
              "      pre.function-repr-contents {\n",
              "        overflow-x: auto;\n",
              "        padding: 8px 12px;\n",
              "        max-height: 500px;\n",
              "      }\n",
              "\n",
              "      pre.function-repr-contents.function-repr-contents-collapsed {\n",
              "        cursor: pointer;\n",
              "        max-height: 100px;\n",
              "      }\n",
              "    </style>\n",
              "    <pre style=\"white-space: initial; background:\n",
              "         var(--colab-secondary-surface-color); padding: 8px 12px;\n",
              "         border-bottom: 1px solid var(--colab-border-color);\"><b>matplotlib.pyplot.show</b><br/>def show(*args, **kwargs)</pre><pre class=\"function-repr-contents function-repr-contents-collapsed\" style=\"\"><a class=\"filepath\" style=\"display:none\" href=\"#\">/usr/local/lib/python3.10/dist-packages/matplotlib/pyplot.py</a>Display all open figures.\n",
              "\n",
              "Parameters\n",
              "----------\n",
              "block : bool, optional\n",
              "    Whether to wait for all figures to be closed before returning.\n",
              "\n",
              "    If `True` block and run the GUI main loop until all figure windows\n",
              "    are closed.\n",
              "\n",
              "    If `False` ensure that all figure windows are displayed and return\n",
              "    immediately.  In this case, you are responsible for ensuring\n",
              "    that the event loop is running to have responsive figures.\n",
              "\n",
              "    Defaults to True in non-interactive mode and to False in interactive\n",
              "    mode (see `.pyplot.isinteractive`).\n",
              "\n",
              "See Also\n",
              "--------\n",
              "ion : Enable interactive mode, which shows / updates the figure after\n",
              "      every plotting command, so that calling ``show()`` is not necessary.\n",
              "ioff : Disable interactive mode.\n",
              "savefig : Save the figure to an image file instead of showing it on screen.\n",
              "\n",
              "Notes\n",
              "-----\n",
              "**Saving figures to file and showing a window at the same time**\n",
              "\n",
              "If you want an image file as well as a user interface window, use\n",
              "`.pyplot.savefig` before `.pyplot.show`. At the end of (a blocking)\n",
              "``show()`` the figure is closed and thus unregistered from pyplot. Calling\n",
              "`.pyplot.savefig` afterwards would save a new and thus empty figure. This\n",
              "limitation of command order does not apply if the show is non-blocking or\n",
              "if you keep a reference to the figure and use `.Figure.savefig`.\n",
              "\n",
              "**Auto-show in jupyter notebooks**\n",
              "\n",
              "The jupyter backends (activated via ``%matplotlib inline``,\n",
              "``%matplotlib notebook``, or ``%matplotlib widget``), call ``show()`` at\n",
              "the end of every cell by default. Thus, you usually don&#x27;t have to call it\n",
              "explicitly there.</pre>\n",
              "      <script>\n",
              "      if (google.colab.kernel.accessAllowed && google.colab.files && google.colab.files.view) {\n",
              "        for (const element of document.querySelectorAll('.filepath')) {\n",
              "          element.style.display = 'block'\n",
              "          element.onclick = (event) => {\n",
              "            event.preventDefault();\n",
              "            event.stopPropagation();\n",
              "            google.colab.files.view(element.textContent, 401);\n",
              "          };\n",
              "        }\n",
              "      }\n",
              "      for (const element of document.querySelectorAll('.function-repr-contents')) {\n",
              "        element.onclick = (event) => {\n",
              "          event.preventDefault();\n",
              "          event.stopPropagation();\n",
              "          element.classList.toggle('function-repr-contents-collapsed');\n",
              "        };\n",
              "      }\n",
              "      </script>\n",
              "      </div>"
            ]
          },
          "metadata": {},
          "execution_count": 383
        },
        {
          "output_type": "display_data",
          "data": {
            "text/plain": [
              "<Figure size 640x480 with 1 Axes>"
            ],
            "image/png": "[encoded data removed]"
          },
          "metadata": {}
        }
      ]
    },
    {
      "cell_type": "markdown",
      "source": [
        "Assessment Task 5: Probability Distributions Visualization"
      ],
      "metadata": {
        "id": "ZTTJniJsUPv-"
      }
    },
    {
      "cell_type": "markdown",
      "source": [
        "1. Interactive Visualization Task:"
      ],
      "metadata": {
        "id": "QqEtzqggUSyN"
      }
    },
    {
      "cell_type": "markdown",
      "source": [
        "Write Python code to generate and visualize binomial and normal probability\n",
        "distributions."
      ],
      "metadata": {
        "id": "f_EPNn-BVWDa"
      }
    },
    {
      "cell_type": "markdown",
      "source": [
        "2. Interactive Question:"
      ],
      "metadata": {
        "id": "jKvJRw0eUoHM"
      }
    },
    {
      "cell_type": "code",
      "source": [
        "#Simulate 1000 coin flips using a binomial distribution and visualize the outcomes.\n",
        "coin_flips = 1000\n",
        "p_head = 0.5\n",
        "binomial_distribution = np.random.binomial(n=1, p=p_head, size=n_trials)"
      ],
      "metadata": {
        "id": "f3ZQXwJRUo5O"
      },
      "execution_count": 384,
      "outputs": []
    },
    {
      "cell_type": "markdown",
      "source": [
        "3. Interactive Graph:"
      ],
      "metadata": {
        "id": "UMQMJZ3lU-YB"
      }
    },
    {
      "cell_type": "code",
      "source": [
        "#Submit your code, and a real-time plot of the distribution will be generated. You can adjust the number of trials or probabilities and see how the graph updates.\n",
        "plt.hist(binomial_distribution, bins=2)\n",
        "plt.title('Binomial Distribution (Coin Flips)')\n",
        "plt.show"
      ],
      "metadata": {
        "colab": {
          "base_uri": "https://localhost:8080/",
          "height": 622
        },
        "id": "8WaO_CfIVD0O",
        "outputId": "8d8df062-face-4907-e510-0aabe42542fc"
      },
      "execution_count": 385,
      "outputs": [
        {
          "output_type": "execute_result",
          "data": {
            "text/plain": [
              "<function matplotlib.pyplot.show(close=None, block=None)>"
            ],
            "text/html": [
              "<div style=\"max-width:800px; border: 1px solid var(--colab-border-color);\"><style>\n",
              "      pre.function-repr-contents {\n",
              "        overflow-x: auto;\n",
              "        padding: 8px 12px;\n",
              "        max-height: 500px;\n",
              "      }\n",
              "\n",
              "      pre.function-repr-contents.function-repr-contents-collapsed {\n",
              "        cursor: pointer;\n",
              "        max-height: 100px;\n",
              "      }\n",
              "    </style>\n",
              "    <pre style=\"white-space: initial; background:\n",
              "         var(--colab-secondary-surface-color); padding: 8px 12px;\n",
              "         border-bottom: 1px solid var(--colab-border-color);\"><b>matplotlib.pyplot.show</b><br/>def show(*args, **kwargs)</pre><pre class=\"function-repr-contents function-repr-contents-collapsed\" style=\"\"><a class=\"filepath\" style=\"display:none\" href=\"#\">/usr/local/lib/python3.10/dist-packages/matplotlib/pyplot.py</a>Display all open figures.\n",
              "\n",
              "Parameters\n",
              "----------\n",
              "block : bool, optional\n",
              "    Whether to wait for all figures to be closed before returning.\n",
              "\n",
              "    If `True` block and run the GUI main loop until all figure windows\n",
              "    are closed.\n",
              "\n",
              "    If `False` ensure that all figure windows are displayed and return\n",
              "    immediately.  In this case, you are responsible for ensuring\n",
              "    that the event loop is running to have responsive figures.\n",
              "\n",
              "    Defaults to True in non-interactive mode and to False in interactive\n",
              "    mode (see `.pyplot.isinteractive`).\n",
              "\n",
              "See Also\n",
              "--------\n",
              "ion : Enable interactive mode, which shows / updates the figure after\n",
              "      every plotting command, so that calling ``show()`` is not necessary.\n",
              "ioff : Disable interactive mode.\n",
              "savefig : Save the figure to an image file instead of showing it on screen.\n",
              "\n",
              "Notes\n",
              "-----\n",
              "**Saving figures to file and showing a window at the same time**\n",
              "\n",
              "If you want an image file as well as a user interface window, use\n",
              "`.pyplot.savefig` before `.pyplot.show`. At the end of (a blocking)\n",
              "``show()`` the figure is closed and thus unregistered from pyplot. Calling\n",
              "`.pyplot.savefig` afterwards would save a new and thus empty figure. This\n",
              "limitation of command order does not apply if the show is non-blocking or\n",
              "if you keep a reference to the figure and use `.Figure.savefig`.\n",
              "\n",
              "**Auto-show in jupyter notebooks**\n",
              "\n",
              "The jupyter backends (activated via ``%matplotlib inline``,\n",
              "``%matplotlib notebook``, or ``%matplotlib widget``), call ``show()`` at\n",
              "the end of every cell by default. Thus, you usually don&#x27;t have to call it\n",
              "explicitly there.</pre>\n",
              "      <script>\n",
              "      if (google.colab.kernel.accessAllowed && google.colab.files && google.colab.files.view) {\n",
              "        for (const element of document.querySelectorAll('.filepath')) {\n",
              "          element.style.display = 'block'\n",
              "          element.onclick = (event) => {\n",
              "            event.preventDefault();\n",
              "            event.stopPropagation();\n",
              "            google.colab.files.view(element.textContent, 401);\n",
              "          };\n",
              "        }\n",
              "      }\n",
              "      for (const element of document.querySelectorAll('.function-repr-contents')) {\n",
              "        element.onclick = (event) => {\n",
              "          event.preventDefault();\n",
              "          event.stopPropagation();\n",
              "          element.classList.toggle('function-repr-contents-collapsed');\n",
              "        };\n",
              "      }\n",
              "      </script>\n",
              "      </div>"
            ]
          },
          "metadata": {},
          "execution_count": 385
        },
        {
          "output_type": "display_data",
          "data": {
            "text/plain": [
              "<Figure size 640x480 with 1 Axes>"
            ],
            "image/png": "[encoded data removed]"
          },
          "metadata": {}
        }
      ]
    },
    {
      "cell_type": "markdown",
      "source": [
        "The coin flip has been performed a thousand times which shows the numbers of how many times heads or tails have been. With p_head having the 0.5 value it ensures that the probability is equal."
      ],
      "metadata": {
        "id": "QUs5Ff-Aj1Wk"
      }
    }
  ]
}