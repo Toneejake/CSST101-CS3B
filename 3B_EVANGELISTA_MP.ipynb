{
  "nbformat": 4,
  "nbformat_minor": 0,
  "metadata": {
    "colab": {
      "provenance": []
    },
    "kernelspec": {
      "name": "python3",
      "display_name": "Python 3"
    },
    "language_info": {
      "name": "python"
    }
  },
  "cells": [
    {
      "cell_type": "markdown",
      "source": [
        "# **Implementing a Logic-Based Model in Python**\n",
        "\n",
        "The python scripts are also included in this notebook.\n"
      ],
      "metadata": {
        "id": "W8cmW4A_TGAf"
      }
    },
    {
      "cell_type": "markdown",
      "source": [
        "# 1. Propositional Logic Operations:"
      ],
      "metadata": {
        "id": "Yr3lNInkTTuV"
      }
    },
    {
      "cell_type": "code",
      "execution_count": 23,
      "metadata": {
        "id": "5p5g94EjeP-a"
      },
      "outputs": [],
      "source": [
        "#Logical Conjunction(AND)\n",
        "def and_op(p, q):\n",
        "    return p and q\n",
        "#The result is true if both p and q are true.\n",
        "\n",
        "#Logical Disjunction(OR)\n",
        "def or_op(p, q):\n",
        "    return p or q\n",
        "#The result is true if at least one of p or q is true.\n",
        "\n",
        "#Logical Negation(NOT)\n",
        "def not_op(p):\n",
        "    return not p\n",
        "#The result is the opposite of the input. If p is true, NOT p is false.\n",
        "\n",
        "#Logical Implication(IMPLIES)\n",
        "def implies_op(p, q):\n",
        "    return not p or q\n",
        "#The result is false only when p is true and q is false."
      ]
    },
    {
      "cell_type": "markdown",
      "source": [
        "# 2. Evaluate Logical Statements:"
      ],
      "metadata": {
        "id": "RofOxthLT2NZ"
      }
    },
    {
      "cell_type": "code",
      "source": [
        "def evaluate(statement, values):\n",
        "    return statement(**values)"
      ],
      "metadata": {
        "id": "LdGkxWb7gDP_"
      },
      "execution_count": 24,
      "outputs": []
    },
    {
      "cell_type": "code",
      "source": [
        "#Example statement to evaluate: p AND q\n",
        "statement = lambda p, q: and_op(p, q)\n",
        "\n",
        "#Define values for p and q\n",
        "values = {'p': True, 'q': False}\n",
        "result = evaluate(statement, values)\n",
        "print(f\"Result of p AND q: {result}\")"
      ],
      "metadata": {
        "colab": {
          "base_uri": "https://localhost:8080/"
        },
        "id": "XJi24jCfgU2R",
        "outputId": "7ec0b116-53b0-4089-8dd4-539ed1292ca1"
      },
      "execution_count": 25,
      "outputs": [
        {
          "output_type": "stream",
          "name": "stdout",
          "text": [
            "Result of p AND q: False\n"
          ]
        }
      ]
    },
    {
      "cell_type": "markdown",
      "source": [
        "# 3. Extend to Predicate Logic:"
      ],
      "metadata": {
        "id": "gue8h2hZV7Qb"
      }
    },
    {
      "cell_type": "code",
      "source": [
        "#FOR ALL (Universal Quantifier)\n",
        "def forall(predicate, domain):\n",
        "    return all(predicate(item) for item in domain)\n",
        "#This function applies the predicate to each element of the domain and checks if all evaluations return True.\n",
        "\n",
        "#EXISTS (Existential Quantifier)\n",
        "def exists(predicate, domain):\n",
        "    return any(predicate(item) for item in domain)\n",
        "#This function checks if the predicate is true for at least one element in the domain.\n"
      ],
      "metadata": {
        "id": "1lNr5RWVSeVe"
      },
      "execution_count": 26,
      "outputs": []
    },
    {
      "cell_type": "code",
      "source": [
        "#Predicate function example\n",
        "predicate = lambda x: x > 0\n",
        "domain = [-1, 0, 1, 2, 3]\n",
        "\n",
        "#FOR ALL: Checks if all items in the domain are greater than 0\n",
        "forall_result = forall(predicate, domain)\n",
        "print(f\"For all items > 0: {forall_result}\")\n",
        "#This function applies the predicate to each element of the domain and checks if all evaluations return True.\n",
        "\n",
        "#EXISTS: Checks if any item in the domain is greater than 0\n",
        "exists_result = exists(predicate, domain)\n",
        "print(f\"Exists an item > 0: {exists_result}\")\n",
        "#This function checks if the predicate is true for at least one element in the domain.\n"
      ],
      "metadata": {
        "colab": {
          "base_uri": "https://localhost:8080/"
        },
        "id": "NcZdztY-SgNy",
        "outputId": "f8df4433-e7e8-414b-b8af-4eb04314abb1"
      },
      "execution_count": 27,
      "outputs": [
        {
          "output_type": "stream",
          "name": "stdout",
          "text": [
            "For all items > 0: False\n",
            "Exists an item > 0: True\n"
          ]
        }
      ]
    },
    {
      "cell_type": "markdown",
      "source": [
        "# 4. AI Agent Development:"
      ],
      "metadata": {
        "id": "GSQ6aY2_XBTP"
      }
    },
    {
      "cell_type": "code",
      "source": [
        "#Simple AI agent decision-making on a person who have water and thirsty\n",
        "def ai_decision(thirsty, empty_water_bottle):\n",
        "    # Logic for decision making\n",
        "    if thirsty and not empty_water_bottle:\n",
        "        return \"Drink your water\"\n",
        "    elif thirsty and empty_water_bottle:\n",
        "        return \"Refill your water bottle\"\n",
        "    else:\n",
        "        return \"Save your water\"\n",
        "#In this agent, conjunction and negation are used"
      ],
      "metadata": {
        "id": "x9-DDCv2Siss"
      },
      "execution_count": 28,
      "outputs": []
    },
    {
      "cell_type": "code",
      "source": [
        "# AI scenario number 1: You are thirsty and you have plenty of water\n",
        "decision = ai_decision(thirsty=True, empty_water_bottle=False)\n",
        "print(f\"AI Decision 1: {decision}\")\n",
        "\n",
        "# AI scenario number 2: You are thirsty and you're out of water\n",
        "decision = ai_decision(thirsty=True, empty_water_bottle=True)\n",
        "print(f\"AI Decision 2: {decision}\")\n",
        "\n",
        "# AI scenario number 3: You are not thirsty and you have plenty of water\n",
        "decision = ai_decision(thirsty=False, empty_water_bottle=False)\n",
        "print(f\"AI Decision 3: {decision}\")"
      ],
      "metadata": {
        "colab": {
          "base_uri": "https://localhost:8080/"
        },
        "id": "UlquQ47sSmBg",
        "outputId": "0659a998-0d7e-4db2-e8a7-5bf319b27084"
      },
      "execution_count": 31,
      "outputs": [
        {
          "output_type": "stream",
          "name": "stdout",
          "text": [
            "AI Decision 1: Drink your water\n",
            "AI Decision 2: Refill your water bottle\n",
            "AI Decision 3: Save your water\n"
          ]
        }
      ]
    }
  ]
}